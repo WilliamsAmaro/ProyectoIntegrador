{
 "cells": [
  {
   "cell_type": "markdown",
   "metadata": {},
   "source": [
    "### __Proyecto Integrador para un Análisis de Inversión en la industria de Videojuego__"
   ]
  },
  {
   "cell_type": "markdown",
   "metadata": {},
   "source": [
    "El obejtivo del presente estudio es identificar posibles nichos en el mercado de videojuegos a partir de la database, para lo cual\n",
    "se procede a realizar un análisis que concilie información demográfica y económica."
   ]
  },
  {
   "cell_type": "markdown",
   "metadata": {},
   "source": [
    "#### __1. Demografía y Preferencias de Juego:__\n",
    "\n",
    "_Utilizamos datos de tasa de natalidad y proporción de niños y niñas en los países seleccionados (USA, EUU, JPN y WLD)._ \n",
    "_De este modo identificamos regiones con potencial a consumir videojuegos destinados a niños o otro grupo etario_"
   ]
  },
  {
   "cell_type": "markdown",
   "metadata": {},
   "source": [
    "_Además, analizamos la esperanza de vida al nacer, así identificar regiones con una población envejecida. En estas áreas, los juegos dirigidos a adultos mayores o a personas que buscan entretenimiento de mayor edad pueden ser una oportunidad_"
   ]
  },
  {
   "cell_type": "markdown",
   "metadata": {},
   "source": [
    "- Se llega a la conlusión de nuestro público objetivo es la población mayor a 14 años."
   ]
  },
  {
   "cell_type": "markdown",
   "metadata": {},
   "source": [
    "#### __2. Indicadores del mercado y país__"
   ]
  },
  {
   "cell_type": "markdown",
   "metadata": {},
   "source": [
    "- __INB _per cápita_ PPA:__ \n",
    "_La elección de visualizar el INB es debido a que se centra en los ingresos que fluyen hacia los residentes y las empresas de un país, independientemente de si la producción se realiza dentro o fuera de sus fronteras. Se utiliza para evaluar el ingreso real y la capacidad de generar ingresos de un país, y se utiliza en cálculos relacionados con la calidad de vida y el bienestar económico de la población._"
   ]
  },
  {
   "cell_type": "markdown",
   "metadata": {},
   "source": [
    "![Tendencia INB per cápita PAA](INB_percapita.png)"
   ]
  },
  {
   "cell_type": "markdown",
   "metadata": {},
   "source": [
    "- __Crecimiento del PBI:__ Este indicador muestra la tasa de crecimiento económico de un país. Un PIB en crecimiento puede indicar un mercado en expansión para los videojuegos."
   ]
  },
  {
   "cell_type": "markdown",
   "metadata": {},
   "source": [
    "- __Incremento de la subscripción a telefonía:__ Este indicador muestra la tasa de crecimiento económico de un país. Un PIB en crecimiento puede indicar un mercado en expansión para los videojuegos."
   ]
  },
  {
   "cell_type": "markdown",
   "metadata": {},
   "source": [
    "- __Historial de Ventas por companía:__ Este indicador muestra como es el comportamiento, de las principales companías en la industría de los videojuegos, en los últimos años, muestra tendencia."
   ]
  },
  {
   "cell_type": "markdown",
   "metadata": {},
   "source": [
    "![Contextualización del Mercado](Descripcion.png)"
   ]
  },
  {
   "cell_type": "markdown",
   "metadata": {},
   "source": [
    "- __Valoración Promedio (Rating) de los Juegos:__ Calcula la valoración promedio de los juegos, tomando en cuenta las valoraciones positivas y negativas. De este modo, se visualiza que juegos consiguieron mayor popularidad en cada plataforma.\n",
    "__(Archivo: MYSQL_INF\\ValoraciónPromedioPorPlataforma.csv)__"
   ]
  },
  {
   "cell_type": "markdown",
   "metadata": {},
   "source": [
    "- __Relación entre Valoraciones Positivas y Negativas:__ Puntuación que calcula la relación entre las valoraciones positivas y negativas para entender la satisfacción general de los jugadores por plataforma. \n",
    "__(Archivo: MYSQL_INF\\RatioValoraciónPorPlataforma.csv)__"
   ]
  },
  {
   "cell_type": "markdown",
   "metadata": {},
   "source": [
    "- __Juegos Más Populares:__ Encuentra los juegos más populares en términos de valoraciones positivas y a aqué plataforma corresponde.\n",
    "__(Archivo: MYSQL_INF\\PopularGamesPorPlataforma.csv)__"
   ]
  },
  {
   "cell_type": "markdown",
   "metadata": {},
   "source": [
    "- __Juegos con Mayor Duración de Juego:__ Identifica los juegos con el mayor tiempo de juego promedio. De este modo, identificamos el tiempo de duración que debería tener el juego a lanzarse.\n",
    "__(Archivo: MYSQL_INF\\GameTiempoPorRating.csv)__"
   ]
  },
  {
   "cell_type": "markdown",
   "metadata": {},
   "source": [
    "- __Rango de Precios de los Juegos:__ Determina el rango de precios de los juegos.\n",
    "__(Archivo: MYSQL_INF\\PrecioGamePorMaxMin.csv)__"
   ]
  },
  {
   "cell_type": "markdown",
   "metadata": {},
   "source": [
    "- __Distribución de Plataformas:__ Visualiza la distribución de juegos en diferentes plataformas.\n",
    "__(Archivo: MYSQL_INF\\CantidadGamePorPlataforma.csv)__"
   ]
  },
  {
   "cell_type": "markdown",
   "metadata": {},
   "source": [
    "- __Precio vs. Valoración:__ Examina si existe una correlación entre el precio de un juego y sus valoraciones.\n",
    "__(Archivo: MYSQL_INF\\ValoraciónPorRatingPrecio.csv)__"
   ]
  },
  {
   "cell_type": "markdown",
   "metadata": {},
   "source": [
    "- __Número de Juegos por Año de Lanzamiento:__ Agrupa los juegos por año de lanzamiento y calcula cuántos se lanzaron en cada año. ___De este modo Identificamos como se encuentra el secto durante los últimos años___\n",
    "__(Archivo: MYSQL_INF\\CantidadGamePorAño.csv)__"
   ]
  },
  {
   "cell_type": "markdown",
   "metadata": {},
   "source": [
    "#### __3. Preguntas del Caso de Estudio__"
   ]
  },
  {
   "cell_type": "markdown",
   "metadata": {},
   "source": [
    "- __¿Qué análisis podemos hacer del mercado actual?__\n",
    "_La industría ha tenido un gran avance a mediados del periodo de evaluación (años). Asimismo, podemos viaulizar que el incremento del acceso a telefonos y juegos en esta plataforma dominan el sector, ya que las principales plataformas han tenido un comportamiento bajo (con tendencia a la baja)._"
   ]
  },
  {
   "cell_type": "markdown",
   "metadata": {},
   "source": [
    "- __¿Qué lineamientos generales deberá tener en cuenta el grupo inversor a la hora de determinar el primer juego de la empresa, para lograr aprovechar al máximo las tendencias del mercado, y así lograr el objetivo planteado?__\n",
    "_Se le recomienda tomar como base el presente reporte para que analice de acuerdo a los indicadores como invertir, qué tipo de juegos, en qué plataforma (cambiar a móvil), y en qué país._"
   ]
  },
  {
   "cell_type": "markdown",
   "metadata": {},
   "source": [
    "- __¿Qué diferencias encontramos entre las distintas plataformas?__\n",
    "_Aquellas plataformas que comporten juegos en común tienden a ser mejor recibidos por el público, esto podría deberse a la flexibidad que tiene el juego para poder usarse en distintas plataformas. Asimismo, aquellas plataformas que limitan el juego a su sistema tienden a tener menores lanzamientos y aceptación por el público_"
   ]
  },
  {
   "cell_type": "markdown",
   "metadata": {},
   "source": [
    "- __¿Qué relación podemos considerar en cuanto a la población e ingresos per cápita de los países?__\n",
    "_El INB per cápita se ha visto favorecido, esto se corrobora viendo el comportamiento del incrmento porcentual del PBI año a año, reflejando así que un proyecto de inversión puede ser biena cogido en los países ya mencionado_"
   ]
  },
  {
   "cell_type": "markdown",
   "metadata": {},
   "source": [
    "- __¿En qué regiones conviene enfocarse?__\n",
    "_A opinión propia Estados Unidos y Japón, tiene un buen comportamiento económico y el público objetivo es preponderante en ambas zonas._"
   ]
  },
  {
   "cell_type": "markdown",
   "metadata": {},
   "source": [
    "- __¿Podemos determinar algo con respecto a los rangos etarios u otras características demográficas?__\n",
    "Si ya enfocamos nuestro público objetivo, por el momento no, en el caso de hacer un escalamiento o diversificar nuestra marca, sí, pero a futuro."
   ]
  },
  {
   "cell_type": "markdown",
   "metadata": {},
   "source": [
    "- __¿Podemos estimar las ventas de los juegos actuales o al menos de una categoría? Shooters por ejemplo.__\n",
    "_Esta respuesta requiere de un análisis predictivo, haciendo uso de series de tiempo. La respuesta es sí, pero con ayuda de otras herramientas estadísticas (inferenciales, no descriptivas)_"
   ]
  },
  {
   "cell_type": "markdown",
   "metadata": {},
   "source": [
    "##### Análisis exploratorio"
   ]
  },
  {
   "cell_type": "markdown",
   "metadata": {},
   "source": [
    "- Paso 1: Carga de datos a las herramientas de información (python-MySQL-PowerBI-Excel) de acuerdo a la facilidad de uso y soporte."
   ]
  },
  {
   "cell_type": "markdown",
   "metadata": {},
   "source": [
    "- Paso 2: Revisamos la base de datos y hacemos una limpieza (_selecionando la data con la cual podremos realizar el presente reporte_)"
   ]
  },
  {
   "cell_type": "markdown",
   "metadata": {},
   "source": [
    "- Paso 3: Comienza a realizar el reporte."
   ]
  },
  {
   "cell_type": "markdown",
   "metadata": {},
   "source": [
    "- Paso 4: Revisión final del reporte."
   ]
  },
  {
   "cell_type": "markdown",
   "metadata": {},
   "source": [
    "Williams Amaro Roque"
   ]
  }
 ],
 "metadata": {
  "kernelspec": {
   "display_name": "Python 3",
   "language": "python",
   "name": "python3"
  },
  "language_info": {
   "codemirror_mode": {
    "name": "ipython",
    "version": 3
   },
   "file_extension": ".py",
   "mimetype": "text/x-python",
   "name": "python",
   "nbconvert_exporter": "python",
   "pygments_lexer": "ipython3",
   "version": "3.11.5"
  },
  "orig_nbformat": 4
 },
 "nbformat": 4,
 "nbformat_minor": 2
}
